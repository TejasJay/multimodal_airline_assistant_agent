{
 "cells": [
  {
   "cell_type": "code",
   "execution_count": 65,
   "id": "d343b01d-d44b-4332-9b26-ab60421048a9",
   "metadata": {},
   "outputs": [],
   "source": [
    "import os\n",
    "from dotenv import load_dotenv\n",
    "import json\n",
    "from openai import OpenAI\n",
    "import gradio as gr\n",
    "import anthropic\n",
    "import base64\n",
    "from io import BytesIO\n",
    "from PIL import Image\n",
    "from pydub import AudioSegment\n",
    "from pydub.playback import play\n"
   ]
  },
  {
   "cell_type": "code",
   "execution_count": 66,
   "id": "d7308cd0-5c38-40d1-83e6-3583c1e7b1ff",
   "metadata": {},
   "outputs": [],
   "source": [
    "load_dotenv(override=True)\n",
    "openai_key = os.getenv('OPENAI_API_KEY')"
   ]
  },
  {
   "cell_type": "code",
   "execution_count": 67,
   "id": "8fa879ee-621e-46e5-8663-9bb2aeef6df4",
   "metadata": {},
   "outputs": [],
   "source": [
    "openai = OpenAI()"
   ]
  },
  {
   "cell_type": "code",
   "execution_count": 68,
   "id": "71f1ba9f-094c-43ee-a4f3-07798dca287c",
   "metadata": {},
   "outputs": [],
   "source": [
    "openai_model = 'gpt-4o-mini'"
   ]
  },
  {
   "cell_type": "code",
   "execution_count": 69,
   "id": "72e0ec68-a7da-4e87-87e7-b8d3f298b97d",
   "metadata": {},
   "outputs": [],
   "source": [
    "system_message = \"You are an helpful AI assistant for an airline called topairline \\\n",
    "                Give short polite message, not more than 1 sentence \\\n",
    "                Always be accurate. If you don't know the answer, say so.\"\n"
   ]
  },
  {
   "cell_type": "code",
   "execution_count": 70,
   "id": "4941966c-b646-4675-b440-f247618c339d",
   "metadata": {},
   "outputs": [],
   "source": [
    "ticket_prices = {\n",
    "    \"london\": \"$799\", \n",
    "    \"paris\": \"$899\", \n",
    "    \"tokyo\": \"$1400\", \n",
    "    \"berlin\": \"$499\", \n",
    "    \"new york\": \"$1200\", \n",
    "    \"sydney\": \"$1500\", \n",
    "    \"rome\": \"$950\", \n",
    "    \"mumbai\": \"$850\", \n",
    "    \"barcelona\": \"$1100\", \n",
    "    \"amsterdam\": \"$1050\", \n",
    "    \"dubai\": \"$1300\", \n",
    "    \"bangkok\": \"$750\", \n",
    "    \"cape town\": \"$1600\"\n",
    "}"
   ]
  },
  {
   "cell_type": "code",
   "execution_count": 71,
   "id": "821e3f10-e70b-4d02-9b1f-548be73b6089",
   "metadata": {
    "editable": true,
    "slideshow": {
     "slide_type": ""
    },
    "tags": []
   },
   "outputs": [],
   "source": [
    "class AirlineAssistant:\n",
    "\n",
    "    def __init__(self, destination_city):\n",
    "        self.system_message = system_message\n",
    "        self.ticket_prices = ticket_prices\n",
    "        self.destination_city = destination_city\n",
    "\n",
    "    \n",
    "    def get_ticket_prices(self):\n",
    "        print(f\"Tool get_ticket_prices for {self.destination_city}\")\n",
    "        city = self.destination_city.lower()\n",
    "        return ticket_prices.get(city, \"Unknown\")\n",
    "\n",
    "    \n",
    "    def price_function(self):\n",
    "        price_function= {\n",
    "            'name' : 'get_ticket_prices',\n",
    "            'description' : \"Get the price of a return ticket to the destination city. Call this whenever you need to know the ticket price, for example when a customer asks 'How much is a ticket to this city'\",\n",
    "            \"parameters\" : {\n",
    "                \"type\" : \"object\",\n",
    "                \"properties\" : {\n",
    "                    \"destination_city\" : {\n",
    "                        \"type\" : \"string\",\n",
    "                        \"description\" : \"The city that the customer wants to travel to\",\n",
    "                    },\n",
    "                },\n",
    "                    \"required\" : [\"destination_city\"],\n",
    "                    \"additionalProperties\": False\n",
    "                }\n",
    "            }\n",
    "        return price_function\n",
    "\n",
    "    \n",
    "    def tool(self):\n",
    "        tools = [{'type':'function', 'function': self.price_function()}]\n",
    "        return tools\n",
    "\n",
    "\n",
    "    def handle_tool_call(self, message):\n",
    "        tool_call = message.tool_calls[0]\n",
    "        arguments = json.loads(tool_call.function.arguments)\n",
    "        city = arguments.get('destination_city')\n",
    "        price = self.get_ticket_prices()\n",
    "        response = {\n",
    "            \"role\": \"tool\",\n",
    "            \"content\": json.dumps({\"destination_city\": city,\"price\": price}),\n",
    "            \"tool_call_id\": tool_call.id\n",
    "        }\n",
    "        return response, city\n",
    "        \n",
    "    \n",
    "    def artist(self):\n",
    "        image_response = openai.images.generate(\n",
    "            model = 'dall-e-3',\n",
    "            prompt=f\"An image representing a vacation in {self.destination_city}, showing tourist spots and everything unique about {self.destination_city}, in a vibrant pop-art style\",\n",
    "                size=\"1024x1024\",\n",
    "                n=1,\n",
    "                response_format=\"b64_json\",\n",
    "            )\n",
    "        # print(image_response)\n",
    "        image_base64 = image_response.data[0].b64_json\n",
    "        image_data = base64.b64decode(image_base64)\n",
    "        # print(image_data)\n",
    "        return Image.open(BytesIO(image_data))\n",
    "\n",
    "    \n",
    "    def talker(self, message):\n",
    "        response = openai.audio.speech.create(\n",
    "          model=\"tts-1\",\n",
    "          voice=\"onyx\",    # Also, try replacing onyx with alloy\n",
    "          input=message\n",
    "        )\n",
    "        print(response)\n",
    "        audio_stream = BytesIO(response.content)\n",
    "        audio = AudioSegment.from_file(audio_stream, format=\"mp3\")\n",
    "        play(audio)\n",
    "\n",
    "\n",
    "    def chat(self, history):\n",
    "        messages = [{\"role\": \"system\", \"content\": system_message}] + history\n",
    "        response = openai.chat.completions.create(model=openai_model, messages=messages, tools=tools)\n",
    "        image = None\n",
    "        \n",
    "        if response.choices[0].finish_reason==\"tool_calls\":\n",
    "            message = response.choices[0].message\n",
    "            response, city = handle_tool_call(message)\n",
    "            messages.append(message)\n",
    "            messages.append(response)\n",
    "            image = artist(self.destination_city)\n",
    "            response = openai.chat.completions.create(model=openai_model, messages=messages)\n",
    "            \n",
    "        reply = response.choices[0].message.content\n",
    "        history += [{\"role\":\"assistant\", \"content\":reply}]\n",
    "    \n",
    "        talker(reply)\n",
    "\n",
    "        return history, image\n",
    "\n",
    "    \n",
    "    def ui(self):\n",
    "        with gr.Blocks() as ui:\n",
    "            with gr.Row():\n",
    "                chatbot = gr.Chatbot(height=500, type=\"messages\")\n",
    "                image_output = gr.Image(height=500)\n",
    "            with gr.Row():\n",
    "                entry = gr.Textbox(label=\"Chat with our AI Assistant:\")\n",
    "            with gr.Row():\n",
    "                clear = gr.Button(\"Clear\")\n",
    "        \n",
    "            def do_entry(message, history):\n",
    "                history += [{\"role\":\"user\", \"content\":message}]\n",
    "                return \"\", history\n",
    "        \n",
    "            entry.submit(do_entry, inputs=[entry, chatbot], outputs=[entry, chatbot]).then(\n",
    "                chat, inputs=chatbot, outputs=[chatbot, image_output]\n",
    "            )\n",
    "            clear.click(lambda: None, inputs=None, outputs=chatbot, queue=False)\n",
    "        \n",
    "        ui.launch(inbrowser=True)"
   ]
  },
  {
   "cell_type": "code",
   "execution_count": 72,
   "id": "265d304a-3f1a-4614-92b2-03f5537c1f54",
   "metadata": {},
   "outputs": [
    {
     "name": "stdout",
     "output_type": "stream",
     "text": [
      "* Running on local URL:  http://127.0.0.1:7886\n",
      "\n",
      "To create a public link, set `share=True` in `launch()`.\n"
     ]
    },
    {
     "data": {
      "text/html": [
       "<div><iframe src=\"http://127.0.0.1:7886/\" width=\"100%\" height=\"500\" allow=\"autoplay; camera; microphone; clipboard-read; clipboard-write;\" frameborder=\"0\" allowfullscreen></iframe></div>"
      ],
      "text/plain": [
       "<IPython.core.display.HTML object>"
      ]
     },
     "metadata": {},
     "output_type": "display_data"
    },
    {
     "name": "stdout",
     "output_type": "stream",
     "text": [
      "<openai._legacy_response.HttpxBinaryResponseContent object at 0x16845aa50>\n"
     ]
    },
    {
     "name": "stderr",
     "output_type": "stream",
     "text": [
      "Input #0, wav, from '/var/folders/90/h9hy_l096_jcf3041fnkklp00000gn/T/tmp67d6hq_q.wav':\n",
      "  Duration: 00:00:02.04, bitrate: 384 kb/s\n",
      "  Stream #0:0: Audio: pcm_s16le ([1][0][0][0] / 0x0001), 24000 Hz, 1 channels, s16, 384 kb/s\n",
      "   1.94 M-A:  0.000 fd=   0 aq=    0KB vq=    0KB sq=    0B "
     ]
    },
    {
     "name": "stdout",
     "output_type": "stream",
     "text": [
      "\n",
      "<openai._legacy_response.HttpxBinaryResponseContent object at 0x1682fffd0>\n"
     ]
    },
    {
     "name": "stderr",
     "output_type": "stream",
     "text": [
      "Input #0, wav, from '/var/folders/90/h9hy_l096_jcf3041fnkklp00000gn/T/tmps9_w1gdp.wav':\n",
      "  Duration: 00:00:04.46, bitrate: 384 kb/s\n",
      "  Stream #0:0: Audio: pcm_s16le ([1][0][0][0] / 0x0001), 24000 Hz, 1 channels, s16, 384 kb/s\n",
      "   4.38 M-A:  0.000 fd=   0 aq=    0KB vq=    0KB sq=    0B "
     ]
    },
    {
     "name": "stdout",
     "output_type": "stream",
     "text": [
      "\n",
      "Tool get_ticket_prices for London\n",
      "<openai._legacy_response.HttpxBinaryResponseContent object at 0x16855dd50>\n"
     ]
    },
    {
     "name": "stderr",
     "output_type": "stream",
     "text": [
      "Input #0, wav, from '/var/folders/90/h9hy_l096_jcf3041fnkklp00000gn/T/tmpexklailf.wav':\n",
      "  Duration: 00:00:06.12, bitrate: 384 kb/s\n",
      "  Stream #0:0: Audio: pcm_s16le ([1][0][0][0] / 0x0001), 24000 Hz, 1 channels, s16, 384 kb/s\n",
      "   6.00 M-A:  0.000 fd=   0 aq=    0KB vq=    0KB sq=    0B "
     ]
    },
    {
     "name": "stdout",
     "output_type": "stream",
     "text": [
      "\n"
     ]
    }
   ],
   "source": [
    "assistant = AirlineAssistant('London')\n",
    "assistant.ui()"
   ]
  },
  {
   "cell_type": "code",
   "execution_count": null,
   "id": "7ca2af50-24ce-4800-a0c3-3bd872feefd7",
   "metadata": {},
   "outputs": [],
   "source": []
  },
  {
   "cell_type": "code",
   "execution_count": null,
   "id": "ca43ed79-d350-4393-9230-de473bb9e5a6",
   "metadata": {
    "editable": true,
    "slideshow": {
     "slide_type": ""
    },
    "tags": []
   },
   "outputs": [],
   "source": []
  }
 ],
 "metadata": {
  "kernelspec": {
   "display_name": "Python 3 (ipykernel)",
   "language": "python",
   "name": "python3"
  },
  "language_info": {
   "codemirror_mode": {
    "name": "ipython",
    "version": 3
   },
   "file_extension": ".py",
   "mimetype": "text/x-python",
   "name": "python",
   "nbconvert_exporter": "python",
   "pygments_lexer": "ipython3",
   "version": "3.11.11"
  }
 },
 "nbformat": 4,
 "nbformat_minor": 5
}
